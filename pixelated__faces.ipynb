{
  "nbformat": 4,
  "nbformat_minor": 0,
  "metadata": {
    "colab": {
      "provenance": []
    },
    "kernelspec": {
      "name": "python3",
      "display_name": "Python 3"
    },
    "language_info": {
      "name": "python"
    }
  },
  "cells": [
    {
      "cell_type": "code",
      "execution_count": null,
      "metadata": {
        "id": "qQQ2YImbmYw6"
      },
      "outputs": [],
      "source": [
        "import os\n",
        "import cv2\n",
        "import numpy as np\n",
        "from PIL import Image, UnidentifiedImageError\n",
        "import matplotlib.pyplot as plt\n",
        "\n",
        "def pixelate_image(image, pixel_size):\n",
        "    \"\"\"\n",
        "    Pixelates a given image array to the specified pixel size.\n",
        "    \"\"\"\n",
        "    h, w = image.shape[:2]\n",
        "    temp = cv2.resize(image, (pixel_size, pixel_size), interpolation=cv2.INTER_LINEAR)\n",
        "    pixelated = cv2.resize(temp, (w, h), interpolation=cv2.INTER_NEAREST)\n",
        "    return pixelated\n",
        "\n",
        "def process_directory(input_dir, output_dir, pixel_size=45, visualize=False):\n",
        "    \"\"\"\n",
        "    Applies pixelation to all images in the input_dir and saves results to output_dir.\n",
        "    If visualize is True, displays the original, cropped, and pixelated images.\n",
        "    \"\"\"\n",
        "    if not os.path.exists(output_dir):\n",
        "        os.makedirs(output_dir)\n",
        "    for root, dirs, files in os.walk(input_dir):\n",
        "        rel_path = os.path.relpath(root, input_dir)\n",
        "        out_subdir = os.path.join(output_dir, rel_path)\n",
        "        if not os.path.exists(out_subdir):\n",
        "            os.makedirs(out_subdir)\n",
        "        for file in files:\n",
        "            input_path = os.path.join(root, file)\n",
        "            output_path = os.path.join(out_subdir, file)\n",
        "            try:\n",
        "                with Image.open(input_path) as img:\n",
        "                    img_rgb = img.convert('RGB')\n",
        "                    img_array = cv2.cvtColor(np.array(img_rgb), cv2.COLOR_RGB2BGR)\n",
        "                    # Pixelate the whole face image (face cropping is already done)\n",
        "                    pixelated = pixelate_image(img_array, pixel_size)\n",
        "                    # Save pixelated image\n",
        "                    pixelated_pil = Image.fromarray(cv2.cvtColor(pixelated, cv2.COLOR_BGR2RGB))\n",
        "                    pixelated_pil.save(output_path, format='PNG')\n",
        "                    print(f\"Pixelated and saved {output_path}\")\n",
        "\n",
        "                    if visualize:\n",
        "                        fig, axes = plt.subplots(1, 2, figsize=(10, 5))\n",
        "                        axes[0].imshow(cv2.cvtColor(img_array, cv2.COLOR_BGR2RGB))\n",
        "                        axes[0].set_title('Cropped Face')\n",
        "                        axes[0].axis('off')\n",
        "                        axes[1].imshow(cv2.cvtColor(pixelated, cv2.COLOR_BGR2RGB))\n",
        "                        axes[1].set_title(f'Pixelated Face ({pixel_size}x{pixel_size})')\n",
        "                        axes[1].axis('off')\n",
        "                        plt.tight_layout()\n",
        "                        plt.show()\n",
        "            except UnidentifiedImageError:\n",
        "                print(f\"Could not identify image file {file}. Skipping...\")\n",
        "            except Exception as e:\n",
        "                print(f\"Error processing {file}: {e}\")\n",
        "\n",
        "if __name__ == \"__main__\":\n",
        "    input_dir = './demographic_group1_faces_v2'    # Directory with cropped faces\n",
        "    output_dir = './demographic_group1_faces_pixelated'  # Directory for pixelated faces\n",
        "    pixel_size = 45  # Adjust the pixelation size as needed\n",
        "    process_directory(input_dir, output_dir, pixel_size=pixel_size, visualize=False)"
      ]
    }
  ]
}