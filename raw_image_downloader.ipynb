{
  "nbformat": 4,
  "nbformat_minor": 0,
  "metadata": {
    "colab": {
      "provenance": []
    },
    "kernelspec": {
      "name": "python3",
      "display_name": "Python 3"
    },
    "language_info": {
      "name": "python"
    }
  },
  "cells": [
    {
      "cell_type": "code",
      "execution_count": null,
      "metadata": {
        "collapsed": true,
        "id": "RvwjK6IEhh0z"
      },
      "outputs": [],
      "source": [
        "import os\n",
        "import requests\n",
        "from PIL import Image\n",
        "from io import BytesIO\n",
        "\n",
        "# Set up SerpAPI key (ensure to use environment variable for security in production)\n",
        "SERPAPI_KEY = \"################\"\n",
        "\n",
        "def search_and_download_images(query, num_images, out_dir='images'):\n",
        "    \"\"\"\n",
        "    Searches for copyright-free images using SerpAPI and downloads them as PNGs.\n",
        "\n",
        "    Args:\n",
        "        query (str): The search query.\n",
        "        num_images (int): Number of images to download.\n",
        "        out_dir (str): The root output directory for images.\n",
        "    \"\"\"\n",
        "    # Usage rights: \"public domain\" or \"Creative Commons\"\n",
        "    params = {\n",
        "        \"q\": query,\n",
        "        \"tbm\": \"isch\",\n",
        "        \"tbs\": \"sur:fm\",  # Searches for freely usable images\n",
        "        \"api_key\": SERPAPI_KEY,\n",
        "    }\n",
        "    url = \"https://serpapi.com/search.json\"\n",
        "    response = requests.get(url, params=params)\n",
        "    if response.status_code != 200:\n",
        "        print(f\"Failed to retrieve data from SerpAPI. Status code: {response.status_code}\")\n",
        "        return\n",
        "\n",
        "    data = response.json()\n",
        "    image_results = data.get('images_results', [])\n",
        "    if not image_results:\n",
        "        print(\"No images found for query:\", query)\n",
        "        return\n",
        "\n",
        "    # Prepare category directory\n",
        "    category_dir = os.path.join(out_dir, query.replace(\" \", \"_\"))\n",
        "    os.makedirs(category_dir, exist_ok=True)\n",
        "\n",
        "    downloaded = 0\n",
        "    for i, result in enumerate(image_results):\n",
        "        if downloaded >= num_images:\n",
        "            break\n",
        "        image_url = result.get('original')\n",
        "        if not image_url:\n",
        "            continue\n",
        "        try:\n",
        "            image_response = requests.get(image_url, timeout=10)\n",
        "            if image_response.status_code == 200:\n",
        "                with Image.open(BytesIO(image_response.content)) as img:\n",
        "                    img = img.convert('RGBA')\n",
        "                    image_path = os.path.join(category_dir, f'{query.replace(\" \", \"_\")}_{downloaded+1}.png')\n",
        "                    img.save(image_path, format='PNG')\n",
        "                    print(f'Downloaded and converted {image_path}')\n",
        "                    downloaded += 1\n",
        "            else:\n",
        "                print(f'Failed to download {image_url}')\n",
        "        except Exception as e:\n",
        "            print(f'Error processing {image_url}: {e}')\n",
        "\n",
        "if __name__ == \"__main__\":\n",
        "    # Example usage\n",
        "    categories = [\"Demographic Induvisuals\"]\n",
        "    for category in categories:\n",
        "        search_and_download_images(category, num_images=200)"
      ]
    }
  ]
}